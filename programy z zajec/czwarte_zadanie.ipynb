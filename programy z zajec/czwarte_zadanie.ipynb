{
 "metadata": {
  "language_info": {
   "codemirror_mode": {
    "name": "ipython",
    "version": 3
   },
   "file_extension": ".py",
   "mimetype": "text/x-python",
   "name": "python",
   "nbconvert_exporter": "python",
   "pygments_lexer": "ipython3",
   "version": "3.8.3-final"
  },
  "orig_nbformat": 2,
  "kernelspec": {
   "name": "python3",
   "display_name": "Python 3.8.3 64-bit ('base': conda)",
   "metadata": {
    "interpreter": {
     "hash": "f2a94dd662cc57c54bc4d8551ce8f3b75fb188fe8ce4f6cc5cded909e8e147db"
    }
   }
  }
 },
 "nbformat": 4,
 "nbformat_minor": 2,
 "cells": [
  {
   "source": [
    "# Opis:\n",
    "Zadanie czwarte polegało na rozwiązaniu tzw. Scheduling Problem, czyli problemu polegający na przypisaniu pracowników każdego dnia, tak aby zminimalizować ich koszty zatrudnienia.\n",
    "![title](./4.png)"
   ],
   "cell_type": "markdown",
   "metadata": {}
  },
  {
   "cell_type": "code",
   "execution_count": 1,
   "metadata": {},
   "outputs": [
    {
     "output_type": "stream",
     "name": "stdout",
     "text": [
      "Status: Optimal\nAniaPia = 1.0\nHektorPon = 1.0\nHektorSr = 1.0\nLidiaPia = 1.0\nOlafCzw = 1.0\nOlafPia = 1.0\nOlafWt = 1.0\nStefanPon = 1.0\nMinimalny koszt =  4000.0\n"
     ]
    }
   ],
   "source": [
    "from pulp import *\n",
    "import pandas as pd\n",
    "\n",
    "pracownicy = [\"Ania\",\"Stefan\",\"Hektor\",\"Olaf\",\"Lidia\",\"Piotr\"]\n",
    "cena_h = [100,50,60,40,110,70] # Stawka godzinowa każdego pracownika.\n",
    "dni = [\"Pon\",\"Wt\",\"Sr\",\"Czw\",\"Pia\"]\n",
    "ilosc_pracownikow_dnia = [2,1,1,1,3] # Ile jednego dnia może być pracowników.\n",
    "sum_tab = [] # lista przeznaczona do sumowania elementów.\n",
    "pracownicy_dzien = [] # Lista przeznaczona do przechowywania list zawierajacych zmienna binarna odpowiedzialna za dostepnosc pracownika kazdego dnia np. AniaPon, AniaWt itd.\n",
    "kiedy_nie_moze = [[],[1,2,3,4],[3,4],[],[0,1,2],[3,4]] # Lista, zawieraja liste, które mówią w który dzień (przedstawiony liczbowo 0-pon 1-wt itd.) dany pracownik nie moze pracować, listy ułozone tak jak pracownicy.\n",
    "\n",
    "prob = LpProblem(\"Sklep\", LpMinimize)\n",
    "\n",
    "for pracownik in pracownicy: #For wypełniający wyżej zdefiniowaną tablice pracownicy_dzien zmiennymi decyzyjnymi AniaPon itd.\n",
    "    pracownik = [LpVariable(pracownik+\"{}\".format(dzien), cat = \"Binary\") for dzien in dni] \n",
    "    pracownicy_dzien.append(pracownik)\n",
    " \n",
    "prob += sum((8*(cena*(sum(x))) for x,cena in zip(pracownicy_dzien,cena_h))) #Obliczanie sumy kosztów zatrudnienia pracowników\n",
    "\n",
    "for numer,pracownik in enumerate(pracownicy_dzien): #For służący do utworzenia limitów dla poszczególnych praconików, w jakie dni mogą pracować\n",
    "    for nie_moze in kiedy_nie_moze[numer]:\n",
    "        sum_tab.append(pracownik[nie_moze])\n",
    "    prob += sum(sum_tab) == 0 \n",
    "    sum_tab.clear()\n",
    "\n",
    "for dzien in range(len(dni)): #For służący do utworzenia limitów ile praconików może być jednego dnia w pracy.\n",
    "    for pracownik in range(len(pracownicy)):\n",
    "        sum_tab.append(pracownicy_dzien[pracownik][dzien])\n",
    "    prob += sum(sum_tab) == ilosc_pracownikow_dnia[dzien]\n",
    "    sum_tab.clear()\n",
    "\n",
    "for pracownik in pracownicy_dzien: #For służący do utrworzenia limitu ile dni w tygodniu może pracować dany pracownik\n",
    "    prob += sum(pracownik) <= 3\n",
    "\n",
    "prob.writeLP(\"Scheduling_Problem\")\n",
    "prob.solve()\n",
    "print (\"Status:\", LpStatus[prob.status])\n",
    "for v in prob.variables():\n",
    "    if(v.varValue == 1):\n",
    "        print (v.name, \"=\", v.varValue)\n",
    "print(\"Minimalny koszt = \", value(prob.objective))"
   ]
  },
  {
   "cell_type": "code",
   "execution_count": null,
   "metadata": {},
   "outputs": [],
   "source": []
  }
 ]
}