{
 "cells": [
  {
   "cell_type": "code",
   "execution_count": 1,
   "metadata": {},
   "outputs": [],
   "source": [
    "import numpy as np"
   ]
  },
  {
   "cell_type": "code",
   "execution_count": 2,
   "metadata": {},
   "outputs": [],
   "source": [
    "a_list= [1,2,3,4,5, [1,2,3], \"temat\"] # nie idealna lista\n",
    "k_krotka = (1,2,3,4,5, [1,2,3], \"temat\")\n",
    "b_list = [1,2,3,4,5]\n",
    "n_array = np.array(b_list) # wektor numpy\n"
   ]
  },
  {
   "cell_type": "code",
   "execution_count": 13,
   "metadata": {},
   "outputs": [
    {
     "data": {
      "text/plain": [
       "array([ 2,  4,  6,  8, 10])"
      ]
     },
     "execution_count": 13,
     "metadata": {},
     "output_type": "execute_result"
    }
   ],
   "source": [
    "a_list+b_list\n",
    "n_array+n_array"
   ]
  },
  {
   "cell_type": "code",
   "execution_count": 3,
   "metadata": {},
   "outputs": [
    {
     "output_type": "execute_result",
     "data": {
      "text/plain": [
       "4"
      ]
     },
     "metadata": {},
     "execution_count": 3
    }
   ],
   "source": [
    "a_list[3]"
   ]
  },
  {
   "cell_type": "code",
   "execution_count": 4,
   "metadata": {},
   "outputs": [
    {
     "output_type": "stream",
     "name": "stdout",
     "text": [
      "[1, 2, 3, 4, 5, [1, 2, 3], 'temat', 100]\n"
     ]
    }
   ],
   "source": [
    "a_list.append(100)\n",
    "print(a_list)"
   ]
  },
  {
   "cell_type": "code",
   "execution_count": 5,
   "metadata": {},
   "outputs": [
    {
     "output_type": "execute_result",
     "data": {
      "text/plain": [
       "5"
      ]
     },
     "metadata": {},
     "execution_count": 5
    }
   ],
   "source": [
    "k_krotka[4]"
   ]
  },
  {
   "cell_type": "code",
   "execution_count": 8,
   "metadata": {},
   "outputs": [
    {
     "output_type": "error",
     "ename": "AttributeError",
     "evalue": "'tuple' object has no attribute 'append'",
     "traceback": [
      "\u001b[0;31m---------------------------------------------------------------------------\u001b[0m",
      "\u001b[0;31mAttributeError\u001b[0m                            Traceback (most recent call last)",
      "\u001b[0;32m<ipython-input-8-4da2f0146474>\u001b[0m in \u001b[0;36m<module>\u001b[0;34m\u001b[0m\n\u001b[0;32m----> 1\u001b[0;31m \u001b[0mk_krotka\u001b[0m\u001b[0;34m.\u001b[0m\u001b[0mappend\u001b[0m\u001b[0;34m(\u001b[0m\u001b[0;36m100\u001b[0m\u001b[0;34m)\u001b[0m\u001b[0;34m\u001b[0m\u001b[0;34m\u001b[0m\u001b[0m\n\u001b[0m",
      "\u001b[0;31mAttributeError\u001b[0m: 'tuple' object has no attribute 'append'"
     ]
    }
   ],
   "source": [
    "k_krotka.append(100)"
   ]
  },
  {
   "cell_type": "code",
   "execution_count": 9,
   "metadata": {},
   "outputs": [
    {
     "output_type": "execute_result",
     "data": {
      "text/plain": [
       "array([ 2,  4,  6,  8, 10])"
      ]
     },
     "metadata": {},
     "execution_count": 9
    }
   ],
   "source": [
    "np.array(b_list)+np.array(b_list)"
   ]
  },
  {
   "cell_type": "code",
   "execution_count": 13,
   "metadata": {},
   "outputs": [],
   "source": [
    "n_array = np.array(a_list) # wektor numpy"
   ]
  },
  {
   "cell_type": "code",
   "execution_count": 14,
   "metadata": {},
   "outputs": [
    {
     "output_type": "execute_result",
     "data": {
      "text/plain": [
       "array([1, 2, 3, 4, 5, list([1, 2, 3]), 'temat', 100], dtype=object)"
      ]
     },
     "metadata": {},
     "execution_count": 14
    }
   ],
   "source": [
    "n_array"
   ]
  },
  {
   "cell_type": "code",
   "execution_count": 199,
   "metadata": {},
   "outputs": [],
   "source": [
    "#### Nowosci\n",
    "\n",
    "studenci_slownik = {123: 123,\"Igor\":3, \"Frankek\":5, \"Zosia\":22,\"Julia\":[2,21], (1,2):\"Krotka\"}"
   ]
  },
  {
   "cell_type": "code",
   "execution_count": 18,
   "metadata": {},
   "outputs": [
    {
     "name": "stdout",
     "output_type": "stream",
     "text": [
      "{123: 123, 'Igor': 3, 'Frankek': 5, 'Zosia': 22, 'Julia': [2, 21], (1, 2): 'Krotka'}\n"
     ]
    }
   ],
   "source": [
    "print(studenci_slownik)"
   ]
  },
  {
   "cell_type": "code",
   "execution_count": 209,
   "metadata": {},
   "outputs": [
    {
     "output_type": "execute_result",
     "data": {
      "text/plain": [
       "22"
      ]
     },
     "metadata": {},
     "execution_count": 209
    }
   ],
   "source": [
    "studenci_slownik[\"Zosia\"]"
   ]
  },
  {
   "cell_type": "code",
   "execution_count": 19,
   "metadata": {},
   "outputs": [
    {
     "name": "stdout",
     "output_type": "stream",
     "text": [
      "123\n",
      "Igor\n",
      "Frankek\n",
      "Zosia\n",
      "Julia\n",
      "(1, 2)\n",
      "********************\n",
      "123\n",
      "Igor\n",
      "Frankek\n",
      "Zosia\n",
      "Julia\n",
      "(1, 2)\n"
     ]
    }
   ],
   "source": [
    "for elementy in studenci_slownik:\n",
    "    print(elementy)\n",
    "\n",
    "print(\"*\"*20)\n",
    "for elementy in studenci_slownik.keys():\n",
    "    print(elementy)"
   ]
  },
  {
   "cell_type": "code",
   "execution_count": 23,
   "metadata": {},
   "outputs": [
    {
     "name": "stdout",
     "output_type": "stream",
     "text": [
      "('Igor', 3)\n",
      "('Frankek', 5)\n",
      "('Zosia', 22)\n",
      "('Julia', [2, 21])\n"
     ]
    }
   ],
   "source": [
    "for elementy in studenci_slownik.items():\n",
    "    print(elementy)"
   ]
  },
  {
   "cell_type": "code",
   "execution_count": 24,
   "metadata": {},
   "outputs": [
    {
     "name": "stdout",
     "output_type": "stream",
     "text": [
      "3\n",
      "5\n",
      "22\n",
      "[2, 21]\n"
     ]
    }
   ],
   "source": [
    "for elementy in studenci_slownik.values():\n",
    "    print(elementy)"
   ]
  },
  {
   "cell_type": "code",
   "execution_count": 30,
   "metadata": {},
   "outputs": [],
   "source": [
    "studenci_slownik[\"Cuthulu\"]= -1000000"
   ]
  },
  {
   "cell_type": "code",
   "execution_count": 31,
   "metadata": {},
   "outputs": [
    {
     "data": {
      "text/plain": [
       "{'Igor': 3, 'Frankek': 5, 'Zosia': 22, 'Julia': [2, 21], 'Cuthulu': -1000000}"
      ]
     },
     "execution_count": 31,
     "metadata": {},
     "output_type": "execute_result"
    }
   ],
   "source": [
    "studenci_slownik"
   ]
  },
  {
   "cell_type": "code",
   "execution_count": 20,
   "metadata": {},
   "outputs": [
    {
     "name": "stdout",
     "output_type": "stream",
     "text": [
      "[0, 16, 64, 144, 256, 400, 576, 784, 1024, 1296, 1600, 1936, 2304, 2704, 3136, 3600, 4096, 4624, 5184, 5776, 6400, 7056, 7744, 8464, 9216]\n"
     ]
    }
   ],
   "source": [
    "automatyczna_lista=[liczba**2 for liczba in range(100) if liczba%4==0]\n",
    "print(automatyczna_lista)"
   ]
  },
  {
   "cell_type": "code",
   "execution_count": 1,
   "metadata": {},
   "outputs": [
    {
     "output_type": "error",
     "ename": "NameError",
     "evalue": "name 'studenci_slownik' is not defined",
     "traceback": [
      "\u001b[0;31m---------------------------------------------------------------------------\u001b[0m",
      "\u001b[0;31mNameError\u001b[0m                                 Traceback (most recent call last)",
      "\u001b[0;32m<ipython-input-1-714044271559>\u001b[0m in \u001b[0;36m<module>\u001b[0;34m\u001b[0m\n\u001b[0;32m----> 1\u001b[0;31m \u001b[0mstudenci\u001b[0m \u001b[0;34m=\u001b[0m \u001b[0mstudenci_slownik\u001b[0m\u001b[0;34m.\u001b[0m\u001b[0mkeys\u001b[0m\u001b[0;34m(\u001b[0m\u001b[0;34m)\u001b[0m\u001b[0;34m\u001b[0m\u001b[0;34m\u001b[0m\u001b[0m\n\u001b[0m\u001b[1;32m      2\u001b[0m \u001b[0mautomatyczny_slownik\u001b[0m\u001b[0;34m=\u001b[0m\u001b[0mdict\u001b[0m\u001b[0;34m(\u001b[0m\u001b[0mpara\u001b[0m \u001b[0;32mfor\u001b[0m \u001b[0mpara\u001b[0m \u001b[0;32min\u001b[0m \u001b[0menumerate\u001b[0m\u001b[0;34m(\u001b[0m\u001b[0mstudenci\u001b[0m\u001b[0;34m)\u001b[0m\u001b[0;34m)\u001b[0m\u001b[0;34m\u001b[0m\u001b[0;34m\u001b[0m\u001b[0m\n\u001b[1;32m      3\u001b[0m \u001b[0mprint\u001b[0m\u001b[0;34m(\u001b[0m\u001b[0mautomatyczny_slownik\u001b[0m\u001b[0;34m)\u001b[0m\u001b[0;34m\u001b[0m\u001b[0;34m\u001b[0m\u001b[0m\n",
      "\u001b[0;31mNameError\u001b[0m: name 'studenci_slownik' is not defined"
     ]
    }
   ],
   "source": [
    "studenci = studenci_slownik.keys()\n",
    "automatyczny_slownik=dict(para for para in enumerate(studenci))\n",
    "print(automatyczny_slownik)"
   ]
  },
  {
   "cell_type": "code",
   "execution_count": 18,
   "metadata": {},
   "outputs": [],
   "source": [
    "##### zbiory\n",
    "\n",
    "a={1,2,3,\"Franek\"}\n",
    "b={2,3,4,\"Franek\"}\n"
   ]
  },
  {
   "cell_type": "code",
   "execution_count": 23,
   "metadata": {},
   "outputs": [
    {
     "data": {
      "text/plain": [
       "{1, 2, 3, 4, 'Franek'}"
      ]
     },
     "execution_count": 23,
     "metadata": {},
     "output_type": "execute_result"
    }
   ],
   "source": [
    "a|b #suma zbiorów, sum of sets"
   ]
  },
  {
   "cell_type": "code",
   "execution_count": 24,
   "metadata": {},
   "outputs": [
    {
     "name": "stdout",
     "output_type": "stream",
     "text": [
      "{1, 2, 3, 'Franek'}\n"
     ]
    }
   ],
   "source": [
    "a.add(\"Franek\")\n",
    "print(a)"
   ]
  },
  {
   "cell_type": "code",
   "execution_count": 25,
   "metadata": {},
   "outputs": [
    {
     "data": {
      "text/plain": [
       "True"
      ]
     },
     "execution_count": 25,
     "metadata": {},
     "output_type": "execute_result"
    }
   ],
   "source": [
    "1 in a\n",
    "\"Igor\" in studenci_slownik"
   ]
  },
  {
   "cell_type": "code",
   "execution_count": 207,
   "metadata": {},
   "outputs": [
    {
     "output_type": "stream",
     "name": "stdout",
     "text": [
      "{'Franek', 1, 2, 3}\n"
     ]
    }
   ],
   "source": [
    "print(a)"
   ]
  },
  {
   "cell_type": "markdown",
   "metadata": {},
   "source": [
    "### Własne typy"
   ]
  },
  {
   "cell_type": "code",
   "execution_count": 7,
   "metadata": {},
   "outputs": [],
   "source": [
    "zajecia = [[\"wf\"],\n",
    "           [\"informatyka\", \"nauka czytania\"],\n",
    "           [\"relax\", \"jedzenie\"],\n",
    "           [\"mispy\",\"mispy w domu\"],\n",
    "           [\"piateczek\", \"praca domowa z mispow\", \"Ilovemispy\", \"mispy w czasie snu\"]\n",
    "          ]\n",
    "\n",
    "dnityg= [\"Pon\",\"Wto\",\"Sro\",\"Czwar\",\"Pio\"]\n",
    "\n",
    "def dodaj_dwie_liczby(liczba1,liczba2):\n",
    "    return liczba1+liczba2"
   ]
  },
  {
   "cell_type": "code",
   "execution_count": 8,
   "metadata": {},
   "outputs": [],
   "source": [
    "class DzienZajec():\n",
    "    \"\"\"obiekt trzymający dany dzień zajęć i przypisane mu metody\"\"\"\n",
    "    \n",
    "    \n",
    "    def __init__(self, lista_na_dany_dzien, nazwa_dnia): #definicja\n",
    "        self.lista_zajec= lista_na_dany_dzien\n",
    "        self.dzien = nazwa_dnia\n",
    "        \n",
    "\n",
    "    \n",
    "    def ile_mispow(self):\n",
    "        ile_m = sum([1 for zajecie in self.lista_zajec if \"misp\" in zajecie.lower()])\n",
    "        return ile_m\n",
    "\n",
    "    @property #zamienia na wlasciwosc   \n",
    "    def ile_zajec(self):\n",
    "        return len(self.lista_zajec)\n",
    "    \n",
    "    def __repr__(self):\n",
    "        zajecia_do_stringa = \", \".join(self.lista_zajec)\n",
    "        return \"W dzien {} mam zajecia: {}\".format(self.dzien, zajecia_do_stringa)\n",
    "    "
   ]
  },
  {
   "cell_type": "code",
   "execution_count": 3,
   "metadata": {},
   "outputs": [],
   "source": [
    "pio_zajecia = DzienZajec([\"piateczek\", \"praca domowa z mispow\", \"Ilovemispy\", \"mispy w czasie snu\"],\n",
    "                        \"piatek\")"
   ]
  },
  {
   "cell_type": "code",
   "execution_count": 4,
   "metadata": {},
   "outputs": [
    {
     "output_type": "execute_result",
     "data": {
      "text/plain": [
       "4"
      ]
     },
     "metadata": {},
     "execution_count": 4
    }
   ],
   "source": [
    "pio_zajecia.ile_zajec"
   ]
  },
  {
   "cell_type": "code",
   "execution_count": 8,
   "metadata": {},
   "outputs": [
    {
     "output_type": "stream",
     "name": "stdout",
     "text": [
      "W dzien piatek mam zajecia: piateczek, praca domowa z mispow, Ilovemispy, mispy w czasie snu\n"
     ]
    }
   ],
   "source": [
    "print(pio_zajecia)"
   ]
  },
  {
   "cell_type": "code",
   "execution_count": 10,
   "metadata": {},
   "outputs": [
    {
     "output_type": "execute_result",
     "data": {
      "text/plain": [
       "['piateczek', 'praca domowa z mispow', 'Ilovemispy', 'mispy w czasie snu']"
      ]
     },
     "metadata": {},
     "execution_count": 10
    }
   ],
   "source": [
    "pio_zajecia.lista_zajec"
   ]
  },
  {
   "cell_type": "code",
   "execution_count": 11,
   "metadata": {},
   "outputs": [
    {
     "output_type": "stream",
     "name": "stdout",
     "text": [
      "['piateczek', 'praca domowa z mispow', 'Ilovemispy', 'mispy w czasie snu', 'MISP']\n"
     ]
    }
   ],
   "source": [
    "pio_zajecia.lista_zajec.append(\"MISP\")\n",
    "print(pio_zajecia.lista_zajec)"
   ]
  },
  {
   "cell_type": "code",
   "execution_count": 213,
   "metadata": {},
   "outputs": [
    {
     "output_type": "execute_result",
     "data": {
      "text/plain": [
       "4"
      ]
     },
     "metadata": {},
     "execution_count": 213
    }
   ],
   "source": [
    "pio_zajecia.ile_mispow()"
   ]
  },
  {
   "cell_type": "code",
   "execution_count": 214,
   "metadata": {},
   "outputs": [
    {
     "output_type": "stream",
     "name": "stdout",
     "text": [
      "['piateczek', 'praca domowa z mispow', 'Ilovemispy', 'mispy w czasie snu', 'MISP']\n"
     ]
    }
   ],
   "source": [
    "print(pio_zajecia.lista_zajec)\n"
   ]
  },
  {
   "cell_type": "code",
   "execution_count": 215,
   "metadata": {},
   "outputs": [
    {
     "output_type": "execute_result",
     "data": {
      "text/plain": [
       "W dzien piatek mam zajecia: piateczek, praca domowa z mispow, Ilovemispy, mispy w czasie snu, MISP"
      ]
     },
     "metadata": {},
     "execution_count": 215
    }
   ],
   "source": [
    "pio_zajecia"
   ]
  },
  {
   "cell_type": "code",
   "execution_count": 216,
   "metadata": {},
   "outputs": [
    {
     "output_type": "stream",
     "name": "stdout",
     "text": [
      "5\n"
     ]
    }
   ],
   "source": [
    "print(pio_zajecia.ile_zajec)"
   ]
  },
  {
   "cell_type": "code",
   "execution_count": 217,
   "metadata": {},
   "outputs": [],
   "source": [
    "lista_zajec= [DzienZajec(lista_dzien, dzien) for lista_dzien, dzien in \n",
    "             zip(zajecia,dnityg)]"
   ]
  },
  {
   "cell_type": "code",
   "execution_count": 218,
   "metadata": {},
   "outputs": [
    {
     "output_type": "stream",
     "name": "stdout",
     "text": [
      "[W dzien Pon mam zajecia: wf, W dzien Wto mam zajecia: informatyka, nauka czytania, W dzien Sro mam zajecia: relax, jedzenie, W dzien Czwar mam zajecia: mispy, mispy w domu, W dzien Pio mam zajecia: piateczek, praca domowa z mispow, Ilovemispy, mispy w czasie snu]\n"
     ]
    }
   ],
   "source": [
    "print(lista_zajec)"
   ]
  },
  {
   "cell_type": "code",
   "execution_count": 112,
   "metadata": {},
   "outputs": [],
   "source": [
    "posortowane_po_zajeciach=sorted(lista_zajec, key= lambda zajecie: zajecie.ile_zajec)\n",
    "posortowane_po_mispach=sorted(lista_zajec, key= lambda zajecie: zajecie.ile_mispow())"
   ]
  },
  {
   "cell_type": "code",
   "execution_count": 113,
   "metadata": {},
   "outputs": [
    {
     "name": "stdout",
     "output_type": "stream",
     "text": [
      "[W dzien Pon mam zajecia: wf, W dzien Wto mam zajecia: informatyka, nauka czytania, W dzien Sro mam zajecia: relax, jedzenie, W dzien Czwar mam zajecia: mispy, mispy w domu, W dzien Pio mam zajecia: piateczek, praca domowa z mispow, Ilovemispy, mispy w czasie snu]\n"
     ]
    }
   ],
   "source": [
    "print(posortowane_po_zajeciach)"
   ]
  },
  {
   "cell_type": "code",
   "execution_count": 114,
   "metadata": {},
   "outputs": [
    {
     "name": "stdout",
     "output_type": "stream",
     "text": [
      "[W dzien Pon mam zajecia: wf, W dzien Wto mam zajecia: informatyka, nauka czytania, W dzien Sro mam zajecia: relax, jedzenie, W dzien Czwar mam zajecia: mispy, mispy w domu, W dzien Pio mam zajecia: piateczek, praca domowa z mispow, Ilovemispy, mispy w czasie snu]\n"
     ]
    }
   ],
   "source": [
    "print(posortowane_po_mispach)"
   ]
  },
  {
   "source": [
    "##### challenge 1\n",
    "\n",
    "Stworz typ NumerTelefonu\n",
    "\n",
    " -- przy tworzeniu sprawdza czy właściwy numer (Polski) jeśli nie pisze, że error (ew. Exception)\n",
    " \n",
    " -- gdy printuję to mi pisze polskimi słowami i.e. \"jeden, pięć, siedem, zero\"\n",
    " \n",
    " -- gdy wywołuję właściwość wojewodzwtwo, podaje mi wojewodztwo ew. ze to komorkowy\n",
    " \n",
    " "
   ],
   "cell_type": "markdown",
   "metadata": {}
  },
  {
   "source": [
    "# ma na takie rzeczy być w stanie odpowiedzieć\n",
    "\n",
    "numer_lodz = NumerTelefonu(\"426877868\")\n",
    ">>> \"prawidlowy numer\"\n",
    "\n",
    "numer_lodz.wojewodztwo \n",
    ">>> \"Lodz\"\n",
    "\n",
    "print(numer_lodz)\n",
    ">>> \"cztery dwa sześć osiem siedem siedem osiem sześć osiem\""
   ],
   "cell_type": "code",
   "metadata": {},
   "execution_count": null,
   "outputs": []
  },
  {
   "cell_type": "code",
   "execution_count": 1,
   "metadata": {},
   "outputs": [],
   "source": [
    "class NumerTelefonu():\n",
    "\n",
    "    def __init__(self,numer):\n",
    "        self.numer_tele = numer\n",
    "        if len(self.numer_tele) == 9:\n",
    "            print(\"Prawidlowy numer\")\n",
    "        else:\n",
    "            print(\"Nieprawidłowy numer\")\n",
    "\n",
    "    def wojewodztwo(self):\n",
    "        kierunkowy = self.numer_tele[0]+self.numer_tele[1]\n",
    "        kierunkowe = {\"42\":\"Lodz\",\"43\":\"Sieradz\",\"46\":\"Skierniewice\"}\n",
    "        try:\n",
    "            kierunek = kierunkowe[kierunkowy]\n",
    "        except KeyError:\n",
    "            kierunek = \"Komorkowy\"\n",
    "        return kierunek\n",
    "\n",
    "\n",
    "    def __repr__(self):\n",
    "        cyfry = [\"zero\",\"jeden\",\"dwa\",\"trzy\",\"cztery\",\"pięć\",\"sześć\",\"siedem\",\"osiem\",\"dziewięć\"]\n",
    "        numer_do_stringa = []\n",
    "        for cyfra in self.numer_tele:\n",
    "            numer_do_stringa.append(cyfry[int(cyfra)])\n",
    "        numer_do_stringa = ' '.join([str(cyfra) for cyfra in numer_do_stringa])\n",
    "        return numer_do_stringa\n"
   ]
  },
  {
   "source": [
    "W funkcji inicjalizującej sprawdzam czy numer telefonu poprawny sprawdzając jego długość, jeżeli nie zawiera 9 znaków uznaję go za błędny. Użytkownik jest informowany o obu przypadkach.\n",
    "\n",
    "Drugą funkcją jaką utworzyłem jest województwo, choć w rzeczywistości numery kierunkowe nie odpowiadają aktualnym województwom, są powiązane jeszcze z poprzednim podziałem administracyjnym Polski. Na samym początku powstaje zmienna kierunek składająca sie z pierwszych dwóch elementów numeru.\n",
    "słownik kierunkowe zawiera kilka kierunkowych, ponieważ wpisywanie wszystkich 49 kierunkowych.\n",
    "Do sprawdzenia wykorzystuje obsługę wyjątków, ponieważ sprawdzam czy kierunek jest kluczem w słowniku, jeżeli nie to normalnie zwracało by bład ale zastosowanie except KeyError gwarantuje, ze program w przypadku tego błędu zwróci komunikat o tym, że numer jest komórkowy.\n",
    "\n",
    "Ostatania funkcja jest to funkcja reprint, zamieniaja w sposob jaki bedzie printowana nasza klasa. Wykorzystuje liste stringów zawierajaca cyfry zapisane słownie, oraz liste numer do stringa, sluzaca do przechowywana numeru w postaci słownej. Funkcja for rozszerza liste numer do stringa o każdy element numeru zapisany słownie. Następnie wykorzstując \"zrozumienie listy\", aby przekształcić liste w numer zapisany słownie w postaci stringa.\n",
    "\n"
   ],
   "cell_type": "markdown",
   "metadata": {}
  },
  {
   "cell_type": "code",
   "execution_count": 2,
   "metadata": {},
   "outputs": [
    {
     "output_type": "stream",
     "name": "stdout",
     "text": [
      "Prawidlowy numer\n"
     ]
    }
   ],
   "source": [
    "numer_lodz = NumerTelefonu(\"466877868\")"
   ]
  },
  {
   "cell_type": "code",
   "execution_count": 3,
   "metadata": {},
   "outputs": [
    {
     "output_type": "execute_result",
     "data": {
      "text/plain": [
       "'Skierniewice'"
      ]
     },
     "metadata": {},
     "execution_count": 3
    }
   ],
   "source": [
    "numer_lodz.wojewodztwo()"
   ]
  },
  {
   "cell_type": "code",
   "execution_count": 4,
   "metadata": {},
   "outputs": [
    {
     "output_type": "stream",
     "name": "stdout",
     "text": [
      "cztery sześć sześć osiem siedem siedem osiem sześć osiem\n"
     ]
    }
   ],
   "source": [
    "print(numer_lodz)"
   ]
  },
  {
   "cell_type": "code",
   "execution_count": 49,
   "metadata": {},
   "outputs": [
    {
     "output_type": "stream",
     "name": "stdout",
     "text": [
      "['4', '4', '6', '8', '7', '7', '8', '6', '8']\n cztery cztery sześć osiem siedem siedem osiem sześć osiem\nKomorkowy\n"
     ]
    }
   ],
   "source": [
    "#PONIŻEJ TESTOWE CELLE#\n",
    "numer = \"446877868\"\n",
    "cyfry = [\"zero\",\"jeden\",\"dwa\",\"trzy\",\"cztery\",\"pięć\",\"sześć\",\"siedem\",\"osiem\",\"dziewięć\"]\n",
    "kierunkowy = numer[0]+numer[1]\n",
    "number_to_str = \"\"\n",
    "print(final)\n",
    "for cyfra in numer:\n",
    "    number_to_str = number_to_str + \" \" + cyfry[int(cyfra)]\n",
    "print(number_to_str)\n",
    "kierunkowe = {'42':'Lodz','43':'Sieradz','46':'Skierniewice'}\n",
    "try:\n",
    "    print(kierunkowe[kierunkowy])\n",
    "except KeyError:\n",
    "    print(\"Komorkowy\")"
   ]
  },
  {
   "cell_type": "code",
   "execution_count": 33,
   "metadata": {},
   "outputs": [
    {
     "output_type": "stream",
     "name": "stdout",
     "text": [
      "zero\ndwa\ntrzy\ncztery\npięć\nsześć\nsiedem\nosiem\ndziewięć\nc\n"
     ]
    }
   ],
   "source": [
    "cyfry = [\"zero\",\"dwa\",\"trzy\",\"cztery\",\"pięć\",\"sześć\",\"siedem\",\"osiem\",\"dziewięć\"]\n",
    "cos1 = \"cos\"\n",
    "for cos in cyfry:\n",
    "    print(cos)"
   ]
  },
  {
   "cell_type": "code",
   "execution_count": null,
   "metadata": {},
   "outputs": [],
   "source": []
  }
 ],
 "metadata": {
  "kernelspec": {
   "name": "python3",
   "display_name": "Python 3.8.3 64-bit ('base': conda)",
   "metadata": {
    "interpreter": {
     "hash": "f2a94dd662cc57c54bc4d8551ce8f3b75fb188fe8ce4f6cc5cded909e8e147db"
    }
   }
  },
  "language_info": {
   "codemirror_mode": {
    "name": "ipython",
    "version": 3
   },
   "file_extension": ".py",
   "mimetype": "text/x-python",
   "name": "python",
   "nbconvert_exporter": "python",
   "pygments_lexer": "ipython3",
   "version": "3.8.3-final"
  }
 },
 "nbformat": 4,
 "nbformat_minor": 2
}