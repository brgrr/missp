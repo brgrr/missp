{
 "metadata": {
  "language_info": {
   "codemirror_mode": {
    "name": "ipython",
    "version": 3
   },
   "file_extension": ".py",
   "mimetype": "text/x-python",
   "name": "python",
   "nbconvert_exporter": "python",
   "pygments_lexer": "ipython3",
   "version": "3.8.3-final"
  },
  "orig_nbformat": 2,
  "kernelspec": {
   "name": "python3",
   "display_name": "Python 3.8.3 64-bit ('base': conda)",
   "metadata": {
    "interpreter": {
     "hash": "f2a94dd662cc57c54bc4d8551ce8f3b75fb188fe8ce4f6cc5cded909e8e147db"
    }
   }
  }
 },
 "nbformat": 4,
 "nbformat_minor": 2,
 "cells": [
  {
   "source": [
    "# Opis trzeci challenge PULP:\n",
    "Trzecim zadaniem było rozwiązanie dwóch problemów elektrycznych."
   ],
   "cell_type": "markdown",
   "metadata": {}
  },
  {
   "source": [
    "# 3.1:\n",
    "Pierwszy polegał na rozwiązaniu problemu z mocą wydzielaną na mostku, aby móc roziwązać ten problem należało wyznaczyć wartości rezystancji, poniewaz znaliśmy napięcia na poszczególnych rezystorach oraz prąd płynąć przez nie jak i jego widełki, co pozwoliło na utworzenie zmiennych posiadających górny oraz dolny limit.\n",
    "![title](./3.1.png)"
   ],
   "cell_type": "markdown",
   "metadata": {}
  },
  {
   "cell_type": "code",
   "execution_count": 31,
   "metadata": {},
   "outputs": [
    {
     "output_type": "stream",
     "name": "stdout",
     "text": [
      "Status: Optimal\nI1 = 3.0\nI2 = 1.0\nI3 = 1.0\nI4 = 1.0\nI5 = 3.0\nR1 =  2.0 k Ohm\nR2 =  10.0 k Ohm\nR3 =  4.0 k Ohm\nR4 =  7.0 k Ohm\nR5 =  1.0 k Ohm\n"
     ]
    }
   ],
   "source": [
    "from pulp import *\n",
    "import pandas as pd\n",
    "prob = LpProblem(\"Mostek\",LpMinimize)\n",
    "\n",
    "Limity_pradow = [(3,5),(1,3),(1,3),(1,3),(3,5)] # Limity dolne oraz górne poszczególnych prądów od I1 do I5\n",
    "Ux = {'U1':6,'U2':10,'U3':4,'U4':7,'U5':3} #Słownik napięć\n",
    "Ix = [LpVariable(\"I{}\".format(i+1),Limity_pradow[i][0],Limity_pradow[i][1]) for i in range(len(Limity_pradow))] #Funkcja tworząca zmienne umieszczone w liście Ix, każda zmienna uwzględnia limity prądu zdefiniowane we wcześniejszej liście\n",
    "\n",
    "prob += Ux['U1']*Ix[0] + Ux['U2']*Ix[1] + Ux['U3']*Ix[2] + Ux['U4']*Ix[3] + Ux['U5']*Ix[4], \"Moc\" #wyznaczanie sumy mocy na poszczególnych rezystorach\n",
    "\n",
    "prob.writeLP(\"MostekModel.lp\")\n",
    "prob.solve()\n",
    "\n",
    "print (\"Status:\", LpStatus[prob.status])\n",
    "\n",
    "for v in prob.variables():\n",
    "    print (v.name, \"=\", v.varValue)\n",
    "for i,j in enumerate(Ux):\n",
    "    print(\"R{} = \".format(i+1),Ux[j]/Ix[i].varValue,\"k Ohm\")"
   ]
  },
  {
   "source": [
    "# 3.2:\n",
    "Drugim zadanie było wyznaczenie jaki maksymalny prąd popłynie przez układ, w którym znamy rezystancje oraz maksymalne prądy jakie mogą płynąć poprzez poszczególny rezystor\n",
    "![title](./3.2.png)"
   ],
   "cell_type": "markdown",
   "metadata": {}
  },
  {
   "cell_type": "code",
   "execution_count": 30,
   "metadata": {},
   "outputs": [
    {
     "output_type": "stream",
     "name": "stdout",
     "text": [
      "Status: Optimal\nI1 = 1.5428571\nI2 = 2.0571429\nI3 = 3.6\nI4 = 1.6\nI5 = 2.0\nMaksymalny prad jaki moze popylnac przez ten uklad wynosi 3.6 A\n"
     ]
    }
   ],
   "source": [
    "from pulp import *\n",
    "import pandas as pd\n",
    "prob = LpProblem(\"Uklad\",LpMaximize)\n",
    "\n",
    "Limity_pradow = [(0,2),(0,3),(0,4),(0,2),(0,2)] # Limity dolne oraz górne poszczególnych prądów od I1 do I5\n",
    "Rx = {'R1':8,'R2':6,'R3':4,'R4':10,'R5':8} #Słownik rezystancji\n",
    "Ix = [LpVariable(\"I{}\".format(i+1),Limity_pradow[i][0],Limity_pradow[i][1]) for i in range(len(Limity_pradow))] #Funkcja tworząca zmienne umieszczone w liście Ix, każda zmienna uwzględnia limity prądu zdefiniowane we wcześniejszej liście\n",
    "prob += Ix[2], \"Maksymalny prad ukladu\" \n",
    "\n",
    "prob += Ix[0] + Ix[1] == Ix[2], \"Suma pradow I1,I2\"\n",
    "prob += Ix[4] + Ix[3] == Ix[2], \"Suma pradow I4,I5\"\n",
    "\n",
    "prob += Ix[0]*Rx['R1'] == Ix[1]*Rx['R2'], \"Napiecie pierwszego oczka\"\n",
    "prob += Ix[4]*Rx['R5'] == Ix[3]*Rx['R4'], \"Napiecie drugiego oczka\"\n",
    "\n",
    "prob.writeLP(\"UkladModel.lp\")\n",
    "prob.solve()\n",
    "print (\"Status:\", LpStatus[prob.status])\n",
    "\n",
    "for v in prob.variables():\n",
    "    print (v.name, \"=\", v.varValue)\n",
    "\n",
    "print(\"Maksymalny prad jaki moze popylnac przez ten uklad wynosi\",Ix[2].varValue,\"A\")"
   ]
  },
  {
   "cell_type": "code",
   "execution_count": null,
   "metadata": {},
   "outputs": [],
   "source": [
    "\n",
    "\n",
    "\n",
    "\n",
    "\n",
    "\n"
   ]
  }
 ]
}