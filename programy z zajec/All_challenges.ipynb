{
 "metadata": {
  "language_info": {
   "codemirror_mode": {
    "name": "ipython",
    "version": 3
   },
   "file_extension": ".py",
   "mimetype": "text/x-python",
   "name": "python",
   "nbconvert_exporter": "python",
   "pygments_lexer": "ipython3",
   "version": "3.8.3-final"
  },
  "orig_nbformat": 2,
  "kernelspec": {
   "name": "python3",
   "display_name": "Python 3.8.3 64-bit ('base': conda)",
   "metadata": {
    "interpreter": {
     "hash": "f2a94dd662cc57c54bc4d8551ce8f3b75fb188fe8ce4f6cc5cded909e8e147db"
    }
   }
  }
 },
 "nbformat": 4,
 "nbformat_minor": 2,
 "cells": [
  {
   "source": [
    "# All challenges, note book posiadający każdy challenge z zajęć MISP"
   ],
   "cell_type": "markdown",
   "metadata": {}
  },
  {
   "source": [
    "# challenge 0.1:\n",
    "wyprintuj zajecia od srody do piatku\n",
    "wyprintuj oprocz srody\n",
    "\n"
   ],
   "cell_type": "markdown",
   "metadata": {}
  },
  {
   "cell_type": "code",
   "execution_count": 1,
   "metadata": {},
   "outputs": [
    {
     "output_type": "stream",
     "name": "stdout",
     "text": [
      "zajecia od srody do piatku: ['relax', 'mispy', 'piateczek']\nDzien:Pon Zajecie:wf\nDzien:Wto Zajecie:informatyka\nDzien:Sro Zajecie:relax\nDzien:Czwar Zajecie:mispy\nDzien:Pio Zajecie:piateczek\n"
     ]
    }
   ],
   "source": [
    "zajecia = [\"wf\",\"informatyka\",\"relax\",\"mispy\",\"piateczek\"]\n",
    "\n",
    "dnityg= [\"Pon\",\"Wto\",\"Sro\",\"Czwar\",\"Pio\"]\n",
    "\n",
    "print(\"zajecia od srody do piatku:\",zajecia[2:])\n",
    "\n",
    "for zaj, dni, in zip(zajecia,dnityg):\n",
    "    if dni != \"sroda\":\n",
    "        print(\"Dzien:{} Zajecie:{}\".format(dni,zaj))\n",
    "#wykorzystuje fora dla połaczonych list zajecia, dnityg i sprawdzam czy dni w dnityg !=sroda, jezeli tak, to printuje dzien oraz zajecia\n",
    "\n"
   ]
  },
  {
   "source": [
    "# challenge 0.2:\n"
   ],
   "cell_type": "markdown",
   "metadata": {}
  },
  {
   "cell_type": "code",
   "execution_count": 2,
   "metadata": {},
   "outputs": [
    {
     "output_type": "stream",
     "name": "stdout",
     "text": [
      "[('Wto', ['wf']), ('Pon', ['informatyka', 'nauka czytania']), ('Sro', ['relax', 'jedzenie']), ('Czwar', ['Ilovemispy', 'mispy w czasie snu']), ('Pio', ['piateczek', 'mispy', 'mispy w domu', 'praca domowa z mispow'])]\n********************\n[('Pio', ['piateczek', 'mispy', 'mispy w domu', 'praca domowa z mispow']), ('Pon', ['informatyka', 'nauka czytania']), ('Sro', ['relax', 'jedzenie']), ('Czwar', ['Ilovemispy', 'mispy w czasie snu']), ('Wto', ['wf'])]\n********************\nDzien z najwieksza iloscia mispow:\n('Pio', ['piateczek', 'mispy', 'mispy w domu', 'praca domowa z mispow'])\n"
     ]
    }
   ],
   "source": [
    "zajecia = [\n",
    "           [\"informatyka\", \"nauka czytania\"],\n",
    "           [\"wf\"],\n",
    "           [\"relax\", \"jedzenie\"],\n",
    "           [\"Ilovemispy\", \"mispy w czasie snu\"],\n",
    "           [\"piateczek\", \"mispy\",\"mispy w domu\", \"praca domowa z mispow\"]\n",
    "          ]\n",
    "\n",
    "#zamieniłem kolejnosc zajec, zeby moc zobaczyc czy udalo sie sortowac\n",
    "\n",
    "dnityg = [\"Pon\",\"Wto\",\"Sro\",\"Czwar\",\"Pio\"]\n",
    "\n",
    "# zdefiniuj funkcje ktora poda ile jest zajec danego dnia\n",
    "# lista_zajec_z_dnia -> ile ich jest\n",
    "\n",
    "def ile_zajec_w_dniu(listazajec):\n",
    "    return len(listazajec)\n",
    "# po\n",
    "# posortuj dni po najbardziej zajetych\n",
    "\n",
    "#od najmniej zajetego do najbardziej\n",
    "najzajete = list(zip(dnityg,zajecia)) #łacze liste w liste 5 krotek (dnityg[n],zajecia[n]) n to numer krotki -1\n",
    "#najzajete = sorted(najzajete, key = lambda sort:ile_zajec_w_dniu(sort[1]))\n",
    "najzajete = sorted(najzajete, key = lambda najzajete:ile_zajec_w_dniu(najzajete[1]))\n",
    "\"\"\"\n",
    "Wykorzystuje funkcje sorted oraz key parameter.Dzięki \"key = lambda najzajete:ile_zajec_w_dniu(najzajete[1])\" uzyskuje ilość zajęc dla danego dnia, a funkcja sorted układa każdy element listy najzajete w odpowiedniej kolejności związanej z iloscią zajęc uzyskanej z wyżej opisanego parametru\n",
    "\"\"\" \n",
    "\n",
    "print(najzajete)\n",
    "\n",
    "print(\"*\"*20)\n",
    "\n",
    "#od najbardziej do najmniej zajetego\n",
    "najzajete = sorted(najzajete, key = lambda najzajete:ile_zajec_w_dniu(najzajete[1]), reverse = True)\n",
    "\n",
    "#Wykorzystuje funkcje sorted oraz key parameter.Dzięki \"key = lambda najzajete:ile_zajec_w_dniu(najzajete[1])\" uzyskuje ilość zajęc dla danego dnia, a funkcja sorted układa #każdy element listy najzajete w odpowiedniej kolejności związanej z iloscią zajęc uzyskanej z wyżej opisanego parametru. Wykorzystuje parametr reverse = True aby odwrócic #kolejność listy i uzyskać dni od najbardziej do najmniej zajetego\n",
    "\n",
    "print(najzajete)\n",
    "print(\"*\"*20)\n",
    "#### challenge 0.3\n",
    "# napisz program ktory zdajdzie dzien z najwieksza iloscia mispow\n",
    "def ile_mispow_w_dniu(listazajec):\n",
    "    counter = 0\n",
    "    for zajecie in listazajec:\n",
    "        if zajecie.find(\"misp\")==-1:\n",
    "            continue\n",
    "        counter = counter + 1\n",
    "    return counter\n",
    "\n",
    "najzajete = sorted(najzajete, key = lambda najzajete:ile_mispow_w_dniu(najzajete[1]), reverse = True)\n",
    "print(\"Dzien z najwieksza iloscia mispow:\")\n",
    "print(najzajete[0])\n",
    "\n",
    "#Definiuję funkcje, która przyjmuje liste zajęc,pierwsza rzeczą, która zostaje zadeklarowana jest to licznik, następnie sprawdzam po kolei każdy element listy z wykorzystaniem #funkcji for, w kazdym tym elemencie są zajęcia wykorzstyujac metode find sprawdzam czy w ktoryms z zajec znajduje sie fraza \"misp\" jeżeli tak, zwiększam counter o 1, jeżeli nie przechodzę do następnego elementu (metoda find zwraca -1 jeżeli nie znajdzie danego stringa).\n",
    "#Ostecznie wykorzystuję ponownie key parameter oraz funkcje sorted, lecz wywolujac teraz wczesniej zdefinowana funkcje aby sprawdzala ile jest mispów danego dnia. Aby #wyswietlic dzien z najwieksza iloscia odwoluje sie do pierwszego elementu listy najzajete poprzez najzajete[0]"
   ]
  },
  {
   "source": [
    "# challenge 1:\n",
    "\n",
    "Stworz typ NumerTelefonu\n",
    "\n",
    " -- przy tworzeniu sprawdza czy właściwy numer (Polski) jeśli nie pisze, że error (ew. Exception)\n",
    " \n",
    " -- gdy printuję to mi pisze polskimi słowami i.e. \"jeden, pięć, siedem, zero\"\n",
    " \n",
    " -- gdy wywołuję właściwość wojewodzwtwo, podaje mi wojewodztwo ew. ze to komorkowy\n",
    " \n",
    "# ma na takie rzeczy być w stanie odpowiedzieć:\n",
    "\n",
    "numer_lodz = NumerTelefonu(\"426877868\")\n",
    ">>> \"prawidlowy numer\"\n",
    "\n",
    "numer_lodz.wojewodztwo \n",
    ">>> \"Lodz\"\n",
    "\n",
    "print(numer_lodz)\n",
    ">>> \"cztery dwa sześć osiem siedem siedem osiem sześć osiem\""
   ],
   "cell_type": "markdown",
   "metadata": {}
  },
  {
   "cell_type": "code",
   "execution_count": 3,
   "metadata": {},
   "outputs": [],
   "source": [
    "class NumerTelefonu():\n",
    "\n",
    "    def __init__(self,numer):\n",
    "        self.numer_tele = numer\n",
    "        if len(self.numer_tele) == 9:\n",
    "            print(\"Prawidlowy numer\")\n",
    "        else:\n",
    "            print(\"Nieprawidłowy numer\")\n",
    "\n",
    "    def wojewodztwo(self):\n",
    "        kierunkowy = self.numer_tele[0]+self.numer_tele[1]\n",
    "        kierunkowe = {\"42\":\"Lodz\",\"43\":\"Sieradz\",\"46\":\"Skierniewice\"}\n",
    "        try:\n",
    "            kierunek = kierunkowe[kierunkowy]\n",
    "        except KeyError:\n",
    "            kierunek = \"Komorkowy\"\n",
    "        return kierunek\n",
    "\n",
    "\n",
    "    def __repr__(self):\n",
    "        cyfry = [\"zero\",\"jeden\",\"dwa\",\"trzy\",\"cztery\",\"pięć\",\"sześć\",\"siedem\",\"osiem\",\"dziewięć\"]\n",
    "        numer_do_stringa = []\n",
    "        for cyfra in self.numer_tele:\n",
    "            numer_do_stringa.append(cyfry[int(cyfra)])\n",
    "        numer_do_stringa = ' '.join([str(cyfra) for cyfra in numer_do_stringa])\n",
    "        return numer_do_stringa"
   ]
  },
  {
   "cell_type": "code",
   "execution_count": 4,
   "metadata": {},
   "outputs": [
    {
     "output_type": "stream",
     "name": "stdout",
     "text": [
      "Prawidlowy numer\n"
     ]
    }
   ],
   "source": [
    "numer_lodz = NumerTelefonu(\"466877868\")"
   ]
  },
  {
   "cell_type": "code",
   "execution_count": 5,
   "metadata": {},
   "outputs": [
    {
     "output_type": "execute_result",
     "data": {
      "text/plain": [
       "'Skierniewice'"
      ]
     },
     "metadata": {},
     "execution_count": 5
    }
   ],
   "source": [
    "numer_lodz.wojewodztwo()"
   ]
  },
  {
   "cell_type": "code",
   "execution_count": 6,
   "metadata": {},
   "outputs": [
    {
     "output_type": "stream",
     "name": "stdout",
     "text": [
      "cztery sześć sześć osiem siedem siedem osiem sześć osiem\n"
     ]
    }
   ],
   "source": [
    "print(numer_lodz)"
   ]
  },
  {
   "source": [
    "# Zadania(Pierwszy challenge PULP):\n",
    "\n",
    "1. przeczytaj materiały dotyczące pulp ze strony internetowej https://coin-or.github.io/pulp/main/index.html oraz przejdź przez blending problem (przepisz do swojego notebooka)\n",
    "\n",
    "2. w blending problem dodaj zmienną decyzyjną. Stwórz zmienną która pojawi się w końcowym składzie produktu (tj. wartość zmiennej będzie miała niezerowa postać)\n",
    "\n",
    "3. Dodaj ograniczenie co do zawartości witaminy B \n",
    "\n",
    "Zawartość:\n",
    "\n",
    "| Nazwa      | zawartość ug/100g |\n",
    "|------------|-------------------|\n",
    "| chicken    | 0.3               |\n",
    "| beef       | 2.6               |\n",
    "| mutton     | 2.6               |\n",
    "| rice       | 0                 |\n",
    "| wheat bran | 0                 |\n",
    "| gel        | 0                 |\n",
    "| sardines   | 8.9               |\n",
    "\n",
    "Kot ma zjeść minimym 0.24 ug na kilogram masy więc około\n",
    "0.8 ug dziennie\n",
    "\n"
   ],
   "cell_type": "markdown",
   "metadata": {}
  },
  {
   "source": [
    "# Opis:\n",
    "Zgodnie z instrukcją do zadania dodałem dodatkowa zmienna \"Tuna\" oraz jej zawartość składników odżywczych w taki sposób, aby by jej wartość przy rozwiązaniu problemu nie była równa 0. Oraz dodałem słownik zawierający informacje o zawrtości witmiany B przez każdy składnik, przeliczony tak aby wskazywał ile ug przypada na g karmy."
   ],
   "cell_type": "markdown",
   "metadata": {}
  },
  {
   "cell_type": "code",
   "execution_count": 7,
   "metadata": {},
   "outputs": [
    {
     "output_type": "stream",
     "name": "stdout",
     "text": [
      "Status: Optimal\nIngr_BEEF = 27.014218\nIngr_CHICKEN = 15.165877\nIngr_GEL = 31.753555\nIngr_MUTTON = 0.0\nIngr_RICE = 0.0\nIngr_SARDINES = 0.0\nIngr_TUNA = 26.066351\nIngr_WHEAT = 0.0\nTotal Cost of Ingredients per can =  0.653554508\n"
     ]
    }
   ],
   "source": [
    "from pulp import *\n",
    "# Creates a list of the Ingredients\n",
    "Ingredients = ['CHICKEN', 'BEEF', 'MUTTON', 'RICE', 'WHEAT', 'GEL', 'SARDINES', 'TUNA']\n",
    "\n",
    "# A dictionary of the costs of each of the Ingredients is created\n",
    "costs = {'CHICKEN': 0.013, \n",
    "         'BEEF': 0.008, \n",
    "         'MUTTON': 0.010, \n",
    "         'RICE': 0.002, \n",
    "         'WHEAT': 0.005, \n",
    "         'GEL': 0.001,\n",
    "         'SARDINES': 0.009,\n",
    "         'TUNA':0.008}\n",
    "\n",
    "# A dictionary of the protein percent in each of the Ingredients is created\n",
    "proteinPercent = {'CHICKEN': 0.100, \n",
    "                  'BEEF': 0.200, \n",
    "                  'MUTTON': 0.150, \n",
    "                  'RICE': 0.000, \n",
    "                  'WHEAT': 0.040, \n",
    "                  'GEL': 0.000,\n",
    "                  'SARDINES':0.120,\n",
    "                  'TUNA':0.090}\n",
    "\n",
    "# A dictionary of the fat percent in each of the Ingredients is created\n",
    "fatPercent = {'CHICKEN': 0.080, \n",
    "              'BEEF': 0.100, \n",
    "              'MUTTON': 0.110, \n",
    "              'RICE': 0.010, \n",
    "              'WHEAT': 0.010, \n",
    "              'GEL': 0.000,\n",
    "              'SARDINES': 0.090,\n",
    "              'TUNA':0.080}\n",
    "\n",
    "# A dictionary of the fibre percent in each of the Ingredients is created\n",
    "fibrePercent = {'CHICKEN': 0.001, \n",
    "                'BEEF': 0.005, \n",
    "                'MUTTON': 0.003, \n",
    "                'RICE': 0.100, \n",
    "                'WHEAT': 0.150, \n",
    "                'GEL': 0.000,\n",
    "                'SARDINES': 0.004,\n",
    "                'TUNA':0.007}\n",
    "\n",
    "# A dictionary of the salt percent in each of the Ingredients is created\n",
    "saltPercent = {'CHICKEN': 0.002, \n",
    "               'BEEF': 0.005, \n",
    "               'MUTTON': 0.007, \n",
    "               'RICE': 0.002, \n",
    "               'WHEAT': 0.008, \n",
    "               'GEL': 0.000,\n",
    "               'SARDINES': 0.001,\n",
    "               'TUNA': 0.009}\n",
    "\n",
    "# A dictionary of the B vitamin ug in 100 g (0.01ug/g)\n",
    "Bvitamin = {'CHICKEN': 0.3 * 0.01, \n",
    "            'BEEF': 2.6 * 0.01, \n",
    "            'MUTTON': 2.6 * 0.01, \n",
    "            'RICE': 0 * 0.01, \n",
    "            'WHEAT': 0 * 0.01, \n",
    "            'GEL': 0 * 0.01,\n",
    "            'SARDINES': 8.9 * 0.01,\n",
    "            'TUNA': 0.2 * 0.01}\n",
    "\n",
    "\n",
    "# Create the 'prob' variable to contain the problem data\n",
    "prob = LpProblem(\"The Whiskas Problem\", LpMinimize)\n",
    "\n",
    "\n",
    "# A dictionary called 'ingredient_vars' is created to contain the referenced Variables\n",
    "ingredient_vars = LpVariable.dicts(\"Ingr\",Ingredients,0)\n",
    "\n",
    "# The objective function is added to 'prob' first\n",
    "prob += lpSum([costs[i]*ingredient_vars[i] for i in Ingredients]), \"Total Cost of Ingredients per can\"\n",
    "\n",
    "\n",
    "# The five constraints are added to 'prob'\n",
    "prob += lpSum([ingredient_vars[i] for i in Ingredients]) == 100, \"PercentagesSum\"\n",
    "prob += lpSum([proteinPercent[i] * ingredient_vars[i] for i in Ingredients]) >= 8.0, \"ProteinRequirement\"\n",
    "prob += lpSum([fatPercent[i] * ingredient_vars[i] for i in Ingredients]) >= 6.0, \"FatRequirement\"\n",
    "prob += lpSum([fibrePercent[i] * ingredient_vars[i] for i in Ingredients]) <= 2.0, \"FibreRequirement\"\n",
    "prob += lpSum([saltPercent[i] * ingredient_vars[i] for i in Ingredients]) <= 0.4, \"SaltRequirement\"\n",
    "prob += lpSum([Bvitamin[i] * ingredient_vars[i] for i in Ingredients]) <= 0.8, \"BVitaminRequirement\" \n",
    "\n",
    "prob.writeLP(\"WhiskasModel2.lp\")\n",
    "\n",
    "prob.solve()\n",
    "\n",
    "# The status of the solution is printed on the screen\n",
    "print(\"Status:\", LpStatus[prob.status])\n",
    "\n",
    "for v in prob.variables():\n",
    "    print(v.name, \"=\", v.varValue)\n",
    "\n",
    "# The optimised objective function value is printed to the screen\n",
    "print(\"Total Cost of Ingredients per can = \", value(prob.objective))"
   ]
  },
  {
   "source": [
    "# Opis drugiego challengeu PULP:\n",
    "Celem zadania było zmaksymalizować zysk z sprzedaży partii okien aluminiowych i drewnianych.\n",
    "Ich ilość jest ograniczona przez wydajność trzech fabryk, każda z fabryk mogła produkować rózna ilość tych partii.\n",
    "Zadanie miało być wykonane w dwóch wariantach, jeden zakładał stałe ceny partii, oraz możliwości fabryk, wariant drugi miał pozwalać na modyfikacje tych czynników za pomocą suwaków\n",
    "\n",
    "![title](./2.png)"
   ],
   "cell_type": "markdown",
   "metadata": {}
  },
  {
   "cell_type": "code",
   "execution_count": 8,
   "metadata": {},
   "outputs": [
    {
     "output_type": "stream",
     "name": "stdout",
     "text": [
      "Status: Optimal\nPartie_okien_aluminiowych = 2.0\nPartie_okien_drewnianych = 6.0\nMaksymalny zysk =  36000.0\n"
     ]
    }
   ],
   "source": [
    "from pulp import*\n",
    "prob = LpProblem(\"Okna_zyski\",LpMaximize)\n",
    "\n",
    "x1 = LpVariable(\"Partie okien aluminiowych\",0,None, LpInteger) #Zmienna decyzyjna mówiąca nam o ilość partii okien aluminiowych\n",
    "x2 = LpVariable(\"Partie okien drewnianych\",0,None, LpInteger) #Zmienna decyzyjna mówiąca nam o ilość partii okien drewnianych\n",
    "\n",
    "prob += 3.0*x1 + 5.0*x2, \"Maksymalny Zysk\" #Maksymalny zysk jaki możemy uzyskać z fabryk 3.0 to cena palety okien aluminiowych/1000, 5.0 cena palet okien drewnianych/100\n",
    "prob += x1 <= 4.0, \"Fabryka 1\" #Ten limit oznacza, ile ta fabryka 1 moze poswiecic czasu na produkcje okien aluminiowych w tygodniu\n",
    "prob += 2.0*x2 <= 12.0, \"Fabryka 2\" #Ten limit oznacza, ile fabryka 2 może poswiecic czasu na produkcje okien drewnianych w tygodniu\n",
    "prob += 3.0*x1 + 2.0*x2 <= 18.0, \"Fabryka 3\" #Ten limit oznacza ile fabryka 3 może wytworzyć partii okien aluminiowych i drewnianych\n",
    "\n",
    "prob.writeLP(\"Okna_zyski\")\n",
    "\n",
    "prob.solve()\n",
    "\n",
    "print(\"Status:\", LpStatus[prob.status])\n",
    "for v in prob.variables():\n",
    "    print(v.name, \"=\", v.varValue)\n",
    "\n",
    "print(\"Maksymalny zysk = \", value(prob.objective)*1000)"
   ]
  },
  {
   "cell_type": "code",
   "execution_count": 9,
   "metadata": {},
   "outputs": [
    {
     "output_type": "display_data",
     "data": {
      "text/plain": "interactive(children=(FloatSlider(value=3000.0, description='cena_aluminiowych_slider', max=100000.0, style=Sl…",
      "application/vnd.jupyter.widget-view+json": {
       "version_major": 2,
       "version_minor": 0,
       "model_id": "2558dea35fa14eac836fb397643734b5"
      }
     },
     "metadata": {}
    },
    {
     "output_type": "execute_result",
     "data": {
      "text/plain": [
       "<function __main__.dane(cena_aluminiowych=3000, cena_drewnianych=5000, f1_czas_partia_alu=1, f1_czas_partia_dre=0, f1_czas_tydz=4, f2_czas_partia_alu=0, f2_czas_partia_dre=2, f2_czas_tydz=12, f3_czas_partia_alu=3, f3_czas_partia_dre=2, f3_czas_tydz=12)>"
      ]
     },
     "metadata": {},
     "execution_count": 9
    }
   ],
   "source": [
    "## Wersja z suwakami\n",
    "from __future__ import print_function\n",
    "from ipywidgets import interact, interactive, fixed, interact_manual, Layout, FloatSlider, IntSlider\n",
    "import ipywidgets as widgets\n",
    "import pandas as pd\n",
    "\n",
    "style = {'description_width': 'initial'}\n",
    "\n",
    "cena_aluminiowych_slider = FloatSlider(min = 0, max = 100000, value = 3000, description=\"cena_aluminiowych_slider\", style = style)\n",
    "cena_drewnianych_slider = FloatSlider(min = 0, max = 100000, value = 5000, description=\"cena_aluminiowych_slider\", style = style)\n",
    "f1_czas_partia_alu_slider = FloatSlider(min = 0, max = 10, value = 1, description=\"f1_czas_partia_alu_slider\", style = style)\n",
    "f1_czas_partia_dre_slider = FloatSlider(min = 0, max = 10, value = 0, description=\"f1_czas_partia_dre_slider\", style = style)\n",
    "f1_czas_tydz_slider = FloatSlider(min = 0, max = 48, value = 4, description=\"f1_czas_tydz_slider\", style = style)\n",
    "f2_czas_partia_alu_slider = FloatSlider(min = 0, max = 10, value = 0, description=\"f2_czas_partia_alu_slider\", style = style)\n",
    "f2_czas_partia_dre_slider = FloatSlider(min = 0, max = 10, value = 2, description=\"f2_czas_partia_dre_slider\", style = style)\n",
    "f2_czas_tydz_slider = FloatSlider(min = 0, max = 48, value = 12, description=\"f2_czas_tydz_slider\", style = style)\n",
    "f3_czas_partia_alu_slider = FloatSlider(min = 0, max = 10, value = 3, description=\"f3_czas_partia_alu_slider\", style = style)\n",
    "f3_czas_partia_dre_slider = FloatSlider(min = 0, max = 10, value = 2, description=\"f3_czas_partia_dre_slider\", style = style)\n",
    "f3_czas_tydz_slider = FloatSlider(min = 0, max = 48, value = 18, description=\"f3_czas_tydz_slider\", style = style)\n",
    "\n",
    "#zmienne suwakowe pozwalające na zmiane każdego czynniku\n",
    "\n",
    "def dane(cena_aluminiowych = 3000,\n",
    "    cena_drewnianych = 5000,\n",
    "    f1_czas_partia_alu = 1,\n",
    "    f1_czas_partia_dre = 0,\n",
    "    f1_czas_tydz = 4,\n",
    "    f2_czas_partia_alu = 0,\n",
    "    f2_czas_partia_dre = 2,\n",
    "    f2_czas_tydz = 12,\n",
    "    f3_czas_partia_alu = 3,\n",
    "    f3_czas_partia_dre = 2,\n",
    "    f3_czas_tydz = 12):\n",
    "# dane początkowe\n",
    "    prob = LpProblem(\"Okna_warianty\",LpMaximize)\n",
    "\n",
    "    x1 = LpVariable(\"Partie okien aluminiowych\",0)\n",
    "    x2 = LpVariable(\"Partie okien drewnianych\",0)\n",
    "\n",
    "    prob += cena_aluminiowych*x1 + cena_drewnianych*x2, \"Maksymalny Zysk\" \n",
    "    prob += f1_czas_partia_alu*x1 + f1_czas_partia_dre*x2 <= f1_czas_tydz, \"Fabryka 1\"\n",
    "    prob += f2_czas_partia_alu*x1 + f2_czas_partia_dre*x2 <= f2_czas_tydz, \"Fabryka 2\"\n",
    "    prob += f3_czas_partia_alu*x1 + f3_czas_partia_dre*x2 <= f3_czas_tydz, \"Fabryka 3\"\n",
    "\n",
    "    prob.writeLP(\"Okna_zyski\")\n",
    "\n",
    "    prob.solve()\n",
    "\n",
    "    print(\"Status:\", LpStatus[prob.status])\n",
    "\n",
    "    for v in prob.variables():\n",
    "        print(v.name, \"=\", v.varValue)\n",
    "\n",
    "    print(\"Maksymalny zysk = \", value(prob.objective))\n",
    "\n",
    "    shadows = [{'name':name, 'shadow price': c.pi, \"slack\": c.slack} for name, c in prob.constraints.items()]\n",
    "    print(\"*\"*10+\"Shadow Prices\"+\"*\"*10)\n",
    "    print(pd.DataFrame(shadows))\n",
    "\n",
    "interact(dane,\n",
    "    cena_aluminiowych = cena_aluminiowych_slider,\n",
    "    cena_drewnianych = cena_drewnianych_slider,\n",
    "    f1_czas_partia_alu = f1_czas_partia_alu_slider,\n",
    "    f1_czas_partia_dre = f1_czas_partia_dre_slider,\n",
    "    f1_czas_tydz = f1_czas_tydz_slider,\n",
    "    f2_czas_partia_alu = f2_czas_partia_alu_slider,\n",
    "    f2_czas_partia_dre = f2_czas_partia_dre_slider,\n",
    "    f2_czas_tydz = f2_czas_tydz_slider,\n",
    "    f3_czas_partia_alu = f3_czas_partia_alu_slider,\n",
    "    f3_czas_partia_dre = f3_czas_partia_dre_slider,\n",
    "    f3_czas_tydz = f3_czas_tydz_slider)\n",
    "# powiązanie suwaków z wczesniej zdefiniowanymi danymi"
   ]
  },
  {
   "source": [
    "# Opis trzeci challenge PULP:\n",
    "Trzecim zadaniem było rozwiązanie dwóch problemów elektrycznych."
   ],
   "cell_type": "markdown",
   "metadata": {}
  },
  {
   "source": [
    "# 3.1:\n",
    "Pierwszy polegał na rozwiązaniu problemu z mocą wydzielaną na mostku, aby móc roziwązać ten problem należało wyznaczyć wartości rezystancji, poniewaz znaliśmy napięcia na poszczególnych rezystorach oraz prąd płynąć przez nie jak i jego widełki, co pozwoliło na utworzenie zmiennych posiadających górny oraz dolny limit.\n",
    "![title](./3.1.png)"
   ],
   "cell_type": "markdown",
   "metadata": {}
  },
  {
   "cell_type": "code",
   "execution_count": 10,
   "metadata": {},
   "outputs": [
    {
     "output_type": "stream",
     "name": "stdout",
     "text": [
      "Status: Optimal\nI1 = 3.0\nI2 = 1.0\nI3 = 1.0\nI4 = 1.0\nI5 = 3.0\nR1 =  2.0 k Ohm\nR2 =  10.0 k Ohm\nR3 =  4.0 k Ohm\nR4 =  7.0 k Ohm\nR5 =  1.0 k Ohm\n"
     ]
    }
   ],
   "source": [
    "from pulp import *\n",
    "import pandas as pd\n",
    "prob = LpProblem(\"Mostek\",LpMinimize)\n",
    "\n",
    "Limity_pradow = [(3,5),(1,3),(1,3),(1,3),(3,5)] # Limity dolne oraz górne poszczególnych prądów od I1 do I5\n",
    "Ux = {'U1':6,'U2':10,'U3':4,'U4':7,'U5':3} #Słownik napięć\n",
    "Ix = [LpVariable(\"I{}\".format(i+1),Limity_pradow[i][0],Limity_pradow[i][1]) for i in range(len(Limity_pradow))] #Funkcja tworząca zmienne umieszczone w liście Ix, każda zmienna uwzględnia limity prądu zdefiniowane we wcześniejszej liście\n",
    "\n",
    "prob += Ux['U1']*Ix[0] + Ux['U2']*Ix[1] + Ux['U3']*Ix[2] + Ux['U4']*Ix[3] + Ux['U5']*Ix[4], \"Moc\" #wyznaczanie sumy mocy na poszczególnych rezystorach\n",
    "\n",
    "prob.writeLP(\"MostekModel.lp\")\n",
    "prob.solve()\n",
    "\n",
    "print (\"Status:\", LpStatus[prob.status])\n",
    "\n",
    "for v in prob.variables():\n",
    "    print (v.name, \"=\", v.varValue)\n",
    "for i,j in enumerate(Ux):\n",
    "    print(\"R{} = \".format(i+1),Ux[j]/Ix[i].varValue,\"k Ohm\")"
   ]
  },
  {
   "source": [
    "# 3.2:\n",
    "Drugim zadanie było wyznaczenie jaki maksymalny prąd popłynie przez układ, w którym znamy rezystancje oraz maksymalne prądy jakie mogą płynąć poprzez poszczególny rezystor\n",
    "![title](./3.2.png)"
   ],
   "cell_type": "markdown",
   "metadata": {}
  },
  {
   "cell_type": "code",
   "execution_count": 11,
   "metadata": {},
   "outputs": [
    {
     "output_type": "stream",
     "name": "stdout",
     "text": [
      "Status: Optimal\nI1 = 1.5428571\nI2 = 2.0571429\nI3 = 3.6\nI4 = 1.6\nI5 = 2.0\nMaksymalny prad jaki moze popylnac przez ten uklad wynosi 3.6 A\n"
     ]
    }
   ],
   "source": [
    "from pulp import *\n",
    "import pandas as pd\n",
    "prob = LpProblem(\"Uklad\",LpMaximize)\n",
    "\n",
    "Limity_pradow = [(0,2),(0,3),(0,4),(0,2),(0,2)] # Limity dolne oraz górne poszczególnych prądów od I1 do I5\n",
    "Rx = {'R1':8,'R2':6,'R3':4,'R4':10,'R5':8} #Słownik rezystancji\n",
    "Ix = [LpVariable(\"I{}\".format(i+1),Limity_pradow[i][0],Limity_pradow[i][1]) for i in range(len(Limity_pradow))] #Funkcja tworząca zmienne umieszczone w liście Ix, każda zmienna uwzględnia limity prądu zdefiniowane we wcześniejszej liście\n",
    "prob += Ix[2], \"Maksymalny prad ukladu\" \n",
    "\n",
    "prob += Ix[0] + Ix[1] == Ix[2], \"Suma pradow I1,I2\"\n",
    "prob += Ix[4] + Ix[3] == Ix[2], \"Suma pradow I4,I5\"\n",
    "\n",
    "prob += Ix[0]*Rx['R1'] == Ix[1]*Rx['R2'], \"Napiecie pierwszego oczka\"\n",
    "prob += Ix[4]*Rx['R5'] == Ix[3]*Rx['R4'], \"Napiecie drugiego oczka\"\n",
    "\n",
    "prob.writeLP(\"UkladModel.lp\")\n",
    "prob.solve()\n",
    "print (\"Status:\", LpStatus[prob.status])\n",
    "\n",
    "for v in prob.variables():\n",
    "    print (v.name, \"=\", v.varValue)\n",
    "\n",
    "print(\"Maksymalny prad jaki moze popylnac przez ten uklad wynosi\",Ix[2].varValue,\"A\")"
   ]
  },
  {
   "source": [
    "# Opis czwartego challenge'u PULP:\n",
    "Zadanie czwarte polegało na rozwiązaniu tzw. Scheduling Problem, czyli problemu polegający na przypisaniu pracowników każdego dnia, tak aby zminimalizować ich koszty zatrudnienia.\n",
    "![title](./4.png)"
   ],
   "cell_type": "markdown",
   "metadata": {}
  },
  {
   "cell_type": "code",
   "execution_count": 12,
   "metadata": {},
   "outputs": [
    {
     "output_type": "stream",
     "name": "stdout",
     "text": [
      "Status: Optimal\nAniaPia = 1.0\nHektorPon = 1.0\nHektorSr = 1.0\nLidiaPia = 1.0\nOlafCzw = 1.0\nOlafPia = 1.0\nOlafWt = 1.0\nStefanPon = 1.0\nMinimalny koszt =  4000.0\n"
     ]
    }
   ],
   "source": [
    "from pulp import *\n",
    "import pandas as pd\n",
    "\n",
    "pracownicy = [\"Ania\",\"Stefan\",\"Hektor\",\"Olaf\",\"Lidia\",\"Piotr\"]\n",
    "cena_h = [100,50,60,40,110,70] # Stawka godzinowa każdego pracownika.\n",
    "dni = [\"Pon\",\"Wt\",\"Sr\",\"Czw\",\"Pia\"]\n",
    "ilosc_pracownikow_dnia = [2,1,1,1,3] # Ile jednego dnia może być pracowników.\n",
    "sum_tab = [] # lista przeznaczona do sumowania elementów.\n",
    "pracownicy_dzien = [] # Lista przeznaczona do przechowywania list zawierajacych zmienna binarna odpowiedzialna za dostepnosc pracownika kazdego dnia np. AniaPon, AniaWt itd.\n",
    "kiedy_nie_moze = [[],[1,2,3,4],[3,4],[],[0,1,2],[3,4]] # Lista, zawieraja liste, które mówią w który dzień (przedstawiony liczbowo 0-pon 1-wt itd.) dany pracownik nie moze pracować, listy ułozone tak jak pracownicy.\n",
    "\n",
    "prob = LpProblem(\"Sklep\", LpMinimize)\n",
    "\n",
    "for pracownik in pracownicy: #For wypełniający wyżej zdefiniowaną tablice pracownicy_dzien zmiennymi decyzyjnymi AniaPon itd.\n",
    "    pracownik = [LpVariable(pracownik+\"{}\".format(dzien), cat = \"Binary\") for dzien in dni] \n",
    "    pracownicy_dzien.append(pracownik)\n",
    " \n",
    "prob += sum((8*(cena*(sum(x))) for x,cena in zip(pracownicy_dzien,cena_h))) #Obliczanie sumy kosztów zatrudnienia pracowników\n",
    "\n",
    "for numer,pracownik in enumerate(pracownicy_dzien): #For służący do utworzenia limitów dla poszczególnych praconików, w jakie dni mogą pracować\n",
    "    for nie_moze in kiedy_nie_moze[numer]:\n",
    "        sum_tab.append(pracownik[nie_moze])\n",
    "    prob += sum(sum_tab) == 0 \n",
    "    sum_tab.clear()\n",
    "\n",
    "for dzien in range(len(dni)): #For służący do utworzenia limitów ile praconików może być jednego dnia w pracy.\n",
    "    for pracownik in range(len(pracownicy)):\n",
    "        sum_tab.append(pracownicy_dzien[pracownik][dzien])\n",
    "    prob += sum(sum_tab) == ilosc_pracownikow_dnia[dzien]\n",
    "    sum_tab.clear()\n",
    "\n",
    "for pracownik in pracownicy_dzien: #For służący do utrworzenia limitu ile dni w tygodniu może pracować dany pracownik\n",
    "    prob += sum(pracownik) <= 3\n",
    "\n",
    "prob.writeLP(\"Scheduling_Problem\")\n",
    "prob.solve()\n",
    "print (\"Status:\", LpStatus[prob.status])\n",
    "for v in prob.variables():\n",
    "    if(v.varValue == 1):\n",
    "        print (v.name, \"=\", v.varValue)\n",
    "print(\"Minimalny koszt = \", value(prob.objective))"
   ]
  },
  {
   "cell_type": "code",
   "execution_count": null,
   "metadata": {},
   "outputs": [],
   "source": []
  }
 ]
}